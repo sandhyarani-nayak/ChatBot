{
  "nbformat": 4,
  "nbformat_minor": 0,
  "metadata": {
    "colab": {
      "name": "Chatbot.ipynb",
      "provenance": [],
      "authorship_tag": "ABX9TyPlVqJob7k8Mpn1HRJZDbYY",
      "include_colab_link": true
    },
    "kernelspec": {
      "name": "python3",
      "display_name": "Python 3"
    },
    "language_info": {
      "name": "python"
    }
  },
  "cells": [
    {
      "cell_type": "markdown",
      "metadata": {
        "id": "view-in-github",
        "colab_type": "text"
      },
      "source": [
        "<a href=\"https://colab.research.google.com/github/sandhyarani-nayak/ChatBot/blob/main/Chatbot.ipynb\" target=\"_parent\"><img src=\"https://colab.research.google.com/assets/colab-badge.svg\" alt=\"Open In Colab\"/></a>"
      ]
    },
    {
      "cell_type": "markdown",
      "metadata": {
        "id": "TeDGT6T8z_AZ"
      },
      "source": [
        "**NAME:-SANDHYARANI NAYAK**\n",
        "\n",
        "**INTERN AT THE INTERN ACADEMY**\n",
        "\n",
        "\n",
        "\n",
        "**What is chatbot?***\n",
        "\n",
        "Ans:- A chatbot is an artificial intelligence (AI) application that can imitate a real conversation with a user in their natural language. Chatbots enable communication via text or audio on websites, messaging applications, mobile apps, or telephone."
      ]
    },
    {
      "cell_type": "code",
      "metadata": {
        "id": "iYRHA_7N0rN3"
      },
      "source": [
        "import nltk\n",
        "import numpy as np\n",
        "import random\n",
        "import string"
      ],
      "execution_count": null,
      "outputs": []
    },
    {
      "cell_type": "code",
      "metadata": {
        "id": "MFpgPjHf05Xp"
      },
      "source": [
        "f=open('/content/intent.json','r',errors = 'ignore')\n",
        "raw=f.read\n",
        "\n",
        "nltk.download('punkt')\n",
        "nltk.download('wordnet')"
      ],
      "execution_count": null,
      "outputs": []
    },
    {
      "cell_type": "code",
      "metadata": {
        "id": "gC2f8vWE0_JI"
      },
      "source": [
        "from nltk.tag import pos_tag\n",
        "from nltk.tokenize import word_tokenize\n",
        "from nltk.stem import WordNetLemmatizer"
      ],
      "execution_count": null,
      "outputs": []
    },
    {
      "cell_type": "code",
      "metadata": {
        "id": "sinlfCos1FsY"
      },
      "source": [
        "lemmer = nltk.stem.WordNetLemmatizer()\n",
        "\n",
        "def lemtokens(tokens):\n",
        "  return [lemmer.lemmatize(token) for token in tokens]\n",
        "remove_punct_dict = dict((ord(punct), None) for punct in string.punctuation)\n",
        "\n",
        "def lemNormalize(text):\n",
        "  return lemtokens(nltk.word_tokenize(text.lower().translate(remove_punct_dict)))"
      ],
      "execution_count": null,
      "outputs": []
    },
    {
      "cell_type": "code",
      "metadata": {
        "id": "5h-aVpMH1NeT"
      },
      "source": [
        "GREETING_INPUTS = ('hello', 'hi', 'greetings', 'sup', \"what's up\", 'hey',)\n",
        "GREETING_RESPONSES = ['hi', 'hey', 'nods', ' hi there','hello']\n",
        "def greeting(sentence):\n",
        "  for word in sentence.split():\n",
        "    if word.lower() in GREETING_INPUTS:\n",
        "      return random.choice(GREETING_RESPONSES)"
      ],
      "execution_count": null,
      "outputs": []
    },
    {
      "cell_type": "code",
      "metadata": {
        "id": "gsdXeOEp1Thg"
      },
      "source": [
        "from sklearn.feature_extraction.text import TfidfVectorizer\n",
        "from sklearn.metrics.pairwise import cosine_similarity"
      ],
      "execution_count": null,
      "outputs": []
    },
    {
      "cell_type": "code",
      "metadata": {
        "id": "eF_eaS1q1YjS"
      },
      "source": [
        "def response(user_response):\n",
        "  robo_response=''\n",
        "  sent_tokens.append(user_response)\n",
        "  TfidVec = TfidfVectorizer(tokenizer=LemNormalize, stop_words='english')\n",
        "  tfidf= TfidfVec.fit.transform(sent_tokens)\n",
        "  vals = cosine_similarity(tfidf[-1], tfidf)\n",
        "  idx = vals.argsort()[0][-2]\n",
        "  flat = vlas.flatten()\n",
        "  flat.sort()\n",
        "  reg_tfidf = flat[-2]\n",
        "  if(reg_tfidf==0):\n",
        "    robo_response = robo_response+\"I am sorry! I don't understand you\"\n",
        "    return robo_response\n",
        "  else:\n",
        "    robo_response = robo_response+\"sent_tokens[idx]\"\n",
        "  return robo_response"
      ],
      "execution_count": null,
      "outputs": []
    },
    {
      "cell_type": "code",
      "metadata": {
        "colab": {
          "base_uri": "https://localhost:8080/"
        },
        "id": "xw_8jepQ1d11",
        "outputId": "27e90681-be51-4c35-f911-ca6199e7d037"
      },
      "source": [
        "flag=True\n",
        "print(\"Chatbot: My name is Sandhya! I can help you with Chatbots. If you want to quit, just type Bye anytime!!\")\n",
        "while(flag==True):\n",
        "  user_response = input()\n",
        "  user_response = user_response.lower()\n",
        "  if(user_response!='bye'):\n",
        "    if(user_response=='thanks' or user_response=='thank you'or user_response=='thanks a lot'):\n",
        "      flag=False\n",
        "      print(\"Sandhya: You're welcome!\")\n",
        "    else:\n",
        "      if(greeting(user_response)!=None):\n",
        "        print(\"Sandhya: \"+greeting(user_response))\n",
        "      else:\n",
        "        print(\"Sandhya: \", end=\"Can't understand you\")\n",
        "  else:\n",
        "    flag=False\n",
        "    print(\"Sandhya: Thanks for talking, bye have a nice day!\")"
      ],
      "execution_count": null,
      "outputs": [
        {
          "output_type": "stream",
          "text": [
            "Chatbot: My name is Sandhya! I can help you with Chatbots. If you want to quit, just type Bye anytime!!\n",
            "bye\n",
            "Sandhya: Thanks for talking, bye have a nice day!\n"
          ],
          "name": "stdout"
        }
      ]
    }
  ]
}